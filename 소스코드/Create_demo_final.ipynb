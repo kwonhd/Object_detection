{
  "nbformat": 4,
  "nbformat_minor": 0,
  "metadata": {
    "colab": {
      "provenance": [],
      "gpuType": "T4"
    },
    "kernelspec": {
      "name": "python3",
      "display_name": "Python 3"
    },
    "language_info": {
      "name": "python"
    },
    "accelerator": "GPU"
  },
  "cells": [
    {
      "cell_type": "code",
      "source": [
        "# 구글드라이브에 작업폴더 만들어 연결하기\n",
        "from google.colab import drive\n",
        "drive.mount('/content/drive')\n",
        "!mkdir -p '/content/drive/My Drive/work/'\n",
        "%cd '/content/drive/My Drive/work/'"
      ],
      "metadata": {
        "id": "kieD2VE0MOdh",
        "colab": {
          "base_uri": "https://localhost:8080/"
        },
        "outputId": "c4dba05e-8e45-41d8-d714-586545190813"
      },
      "execution_count": null,
      "outputs": [
        {
          "output_type": "stream",
          "name": "stdout",
          "text": [
            "Drive already mounted at /content/drive; to attempt to forcibly remount, call drive.mount(\"/content/drive\", force_remount=True).\n",
            "/content/drive/My Drive/work\n"
          ]
        }
      ]
    },
    {
      "cell_type": "code",
      "source": [
        "from transformers import GPT2LMHeadModel, GPT2TokenizerFast, pipeline\n",
        "\n",
        "model_path = '/content/drive/MyDrive/work/khaanaGPT'  # 모델이 저장된 경로\n",
        "tokenizer = GPT2TokenizerFast.from_pretrained(model_path)  # 토크나이저 로드\n",
        "model = GPT2LMHeadModel.from_pretrained(model_path)  # 모델 로드\n",
        "model.config.pad_token_id = model.config.eos_token_id\n",
        "\n",
        "text_generator = pipeline('text-generation', model=model, tokenizer=tokenizer)\n",
        "\n",
        "def create_prompt(ingredients):\n",
        "    ingredients = ','.join([x.strip().lower() for x in ingredients.split(',')])  # 입력한 재료를 ,로 구분해 분할\n",
        "    ingredients = ingredients.strip().replace(',', '\\n')\n",
        "    s = f\"재료:\\n{ingredients}\\n\"\n",
        "    return s\n",
        "\n",
        "ingredients = ['김치', '감자', '고구마', '토마토', '당근', '마늘', '파프리카', '연근', '우엉']\n",
        "\n",
        "for ing in ingredients:  # 리스트에 있는 각 재료에 대해 반복\n",
        "    prompt = create_prompt(ing)  # 현재 재료를 이용해 prompt 문자열 생성\n",
        "    generated_text = text_generator(prompt,  # 텍스트 반환\n",
        "                                    max_length=512,  # 생성할 최대 토큰 개수\n",
        "                                    do_sample=True,\n",
        "                                    temperature=0.6,\n",
        "                                    top_k=50,\n",
        "                                    )\n",
        "    print(generated_text[0]['generated_text'])\n"
      ],
      "metadata": {
        "colab": {
          "base_uri": "https://localhost:8080/"
        },
        "id": "Pm4EEf53cqWn",
        "outputId": "675577e5-b5d4-4c12-d57f-040308869820"
      },
      "execution_count": null,
      "outputs": [
        {
          "output_type": "stream",
          "name": "stdout",
          "text": [
            "재료:\n",
            "김치\n",
            "양파재료\n",
            "\n",
            " 재료:\n",
            "김치,양송이버섯,마늘,올리브유,생크림,치즈,식초,설탕,소금\n",
            "\n",
            " 레시피:\n",
            "1. 양파재료는 한입 크기로 썬다.2. 마늘은 꼭지를 떼고 양파재료를 섞은 뒤 마늘을 볶다가 김치를 넣고 볶는다.3. 생크림은 끓는 물에 데쳐 껍질을 벗긴다.4. 올리브오일과 치즈를 넣고 마늘을 믹서에 넣어 곱게 갈아 소금으로 간한다.5. 준비된 채소와 식초를 섞은 뒤 물기를 제거한 뒤 약 30분 정도 삶아 건져 물기를 제거한다.6. 채소와 마�\n",
            "재료:\n",
            "감자\n",
            "마늘기름\n",
            "\n",
            " 재료:\n",
            "감자,중력분,식용유,소금,후추,식초,설탕,식초\n",
            "\n",
            " 레시피:\n",
            "1. 감자는 삶아 으깬다.2. 다진 식초, 설탕, 식초, 소금, 후춧가루를 뿌려 밑간을 한다.3. 삶은 감자에 준비한 소금과 후춧가루를 뿌려 밑간을 한다.4. 삶은 감자를 잘게 다진 뒤 식초, 설탕, 식초를 넣고 다진 흑임자을 함께 넣어 약 3시간 정도 숙성시킨다. Roadmap 숙성된 감자와 준비한 소금, 후춧가루를 뿌려 밑간을 한다.5. 감자� fever과 흑임자을 함께 넣어 �\n",
            "재료:\n",
            "고구마\n",
            "고구마카스\n",
            "\n",
            " 재료:\n",
            "배추,올리브유,양파,파프리카,찹쌀가루,소금,고구마,생강,식용유,홍고추,간장,고춧가루,식초,맛술,설탕,깨,물\n",
            "\n",
            " 레시피:\n",
            "1. 양파는 채 썰어 볶아준다.2. 올리브오일, 양파, 파프리카, 찹쌀가루는 곱게 다진다.3. 배추와 올리브오일, 양파, 파프리카, 찹쌀가루, 올리브오일을 넣고 반죽을 한다.4. 고구마카스를 넣어 간을 한다.5. 반죽에 고구마카스, 고구마, 양파, 파프리카를 넣어 섞는다.6\n",
            "재료:\n",
            "토마토\n",
            "삼치즈볶음\n",
            "\n",
            " 재료:\n",
            "소고기,소금,후추,찹쌀가루,생크림,양파,토마토,양송이버섯,간장,마늘,올리고당,식용유,설탕,식초,생강,육수\n",
            "\n",
            " 레시피:\n",
            "1. 볶은 소고기에 물을 넣고 잘 섞는다.2. 토마토는 꼭 짜서 으깬다.3. 찹쌀가루에 생크림을 섞어 다져 소금과 후춧가루를 뿌려 밑간을 해 놓는다.4. 올리고당은 채 썰어 준비한다.5. 소고기는 반으로 잘라 팬에 기름을 두르고 다진 설탕식초를 넣어 섞어 볶다가 양파, 토마토를 �\n",
            "재료:\n",
            "당근\n",
            "양파스타\n",
            "\n",
            " 재료:\n",
            "소고기,고구마,쌀,파,마늘,간장,물,찹쌀가루,참기름,소금\n",
            "\n",
            " 레시피:\n",
            "1. 물에 찹쌀찹쌀을 넣고 갈아준다.2. 쌀을 깨끗하게 씻어 찬물에 헹군다.3. 소고기는 핏물을 붓고 쌀과 고구마는 함께 곱게 으깬다.4. 갈아진 마늘을 섞어 다진다.5. 양파와 양념장에 쌀, 고구마를 넣고 끓인다.6. 참기름에 참깨소스를 만든다.\n",
            "\n",
            " \n",
            "재료:\n",
            "마늘\n",
            "들깨수육수\n",
            "\n",
            " 재료:\n",
            "소고기,새송이버섯,양파,마늘,올리브유,들깻가루,간장,올리고당,식초,설탕,잣\n",
            "\n",
            " 레시피:\n",
            "1. 소고기는 먹기 좋은 크기로 잘라서 소금에 살짝 무친�ulative진다.2. 새송이버섯과 양파는 채 썰고, 청고추는 어슷썰기 한다.3. 마늘은 입자있게 다진다.4. 양파와 마늘은 다진다.5. 새송이버섯과 양파, 마늘, 올리브유, 새송이버섯은 한입  Iraqis를 제거하고 재워 Yellow에 구워 재료를 섞는다.6. 접시에 절여 담고 소고기를 올리\n",
            "재료:\n",
            "파프리카\n",
            "고구마가지샌드위치\n",
            "\n",
            " 재료:\n",
            "고구마,레몬,마늘,양파,양송이버섯,홍고추,파프리카,방울토마토,파프리카,올리브유,마늘,올리고당,생강,소금\n",
            "\n",
            " 레시피:\n",
            "1. 고구마는 껍질을 벗겨 채 썰어 물에 담가 갈아 준 후 껍질을 벗겨 채 썰어 놓는다.2. 나머지 고구마와 레몬은 얇게 썬다.3. 양파는 한입 크기로 썰고, 양송이는 6등분한다.4. 채 썬 마늘은 다지고, 파프리카는 채 썰어 물에 담가 갈아 놓는다.5. 올리고당과 생강은\n",
            "재료:\n",
            "연근\n",
            "물돼지고기\n",
            "\n",
            " 재료:\n",
            "돼지고기,연근,양파,마늘,생강,후추,블루베리,배,생크림,애호박,깨,물,고춧가루,마늘,대파,양파,간장,식초,설탕,물\n",
            "\n",
            " 레시피:\n",
            "1. 돼지고기는 깨끗이 씻어 찬물에 헹구어 물기를 뺀다.2. 양파와 마늘, 마늘은 입자있게 다져 준비한다.3. 연근은 끓는 물에 데쳐 입자있게 썰어 물기를 제거한다.4. 수분을 제거한 양파와 마늘을 넣고 잘 섞은 뒤 양념장을 만든다.5. 돼지고기에 양념장을 곁들여 낸다.6. 깨를 뿌�\n",
            "재료:\n",
            "우엉\n",
            "백김치찌개\n",
            "\n",
            " 재료:\n",
            "우엉,치즈,생강,표고버섯,새송이버섯,감자,후추,레몬,올리브유,검은깨\n",
            "\n",
            " 레시피:\n",
            "1. 새송이버섯은 찬물에 담가 핏물을 제거한다.2. 새송이버섯은 밑동을 제거한 새싡이에 치즈를 넣고 골고루 섞는다.3. 치즈는 잘게 다져 준비한다.4. 준비한 치즈를 손질한 채소에 생강과 표고버섯을 넣고 볶다가 채소를 넣고 섞는다.5. 밀가루에 우엉을 풀어 물기를 제거한 새송이와 감� SG�, 후춧가루를 넣고 끓인다.6. 그릇에 �\n"
          ]
        }
      ]
    },
    {
      "cell_type": "code",
      "source": [
        "from transformers import GPT2LMHeadModel, GPT2TokenizerFast, pipeline\n",
        "\n",
        "model_path = '/content/drive/MyDrive/work/khaanaGPT' # path where model is saved\n",
        "tokenizer = GPT2TokenizerFast.from_pretrained(model_path) # load tokenizer\n",
        "model = GPT2LMHeadModel.from_pretrained(model_path) # load the model\n",
        "model.config.pad_token_id = model.config.eos_token_id\n",
        "\n",
        "text_generator = pipeline('text-generation', model=model, tokenizer=tokenizer)\n",
        "\n",
        "def create_prompt(ingredients):\n",
        "    ingredients = ','.join([x.strip().lower() for x in ingredients]) # split the input ingredients separated by ,\n",
        "    ingredients = ingredients.strip().replace(',', '\\n')\n",
        "    s = f\"재료:\\n{ingredients}\\n\"\n",
        "    return s\n",
        "\n",
        "ingredients = ['김치', '감자', '고구마']\n",
        "\n",
        "prompt = create_prompt(ingredients) # create prompt string using all materials\n",
        "# 텍스트 생성 및 출력\n",
        "generated_text = text_generator(prompt, max_length=512, do_sample=True, temperature=0.6, top_k=50)\n",
        "print(generated_text[0]['generated_text'])\n"
      ],
      "metadata": {
        "colab": {
          "base_uri": "https://localhost:8080/"
        },
        "id": "aKZyaJJZhQmm",
        "outputId": "d9ef680c-fdda-4c55-fae2-a65bae5401a6"
      },
      "execution_count": 29,
      "outputs": [
        {
          "output_type": "stream",
          "name": "stdout",
          "text": [
            "Ingredients:\n",
            "김치\n",
            "감자\n",
            "고구마\n",
            "두유,두부,생강,무,양파,파프리카,마늘,후추,소금,후추\n",
            "\n",
            " 레시피:\n",
            "1. 고구마는 으깨준다.2. 저염감자는 세척 후 물기를 제거한다.3. 생강과 무, 양파를 다진 뒤 생강, 무를 넣어 감자와 두부를 넣어 끓인다.4. 양념장 재료를 모두 섞어 냉장고에서 헹군다.5. 팬에 기름을 두르고 다진 후춧가루로 간을 한다.6. 그릇에 담고 양념장을 담고 김치, 양념장과 두부를 올려 완성한다.\n",
            "\n",
            " \n"
          ]
        }
      ]
    },
    {
      "cell_type": "code",
      "source": [
        "from transformers import GPT2LMHeadModel, GPT2TokenizerFast, pipeline\n",
        "\n",
        "model_path = '/content/drive/MyDrive/work/khaanaGPT'  # 모델이 저장된 경로\n",
        "tokenizer = GPT2TokenizerFast.from_pretrained(model_path)  # 토크나이저 로드\n",
        "model = GPT2LMHeadModel.from_pretrained(model_path)  # 모델 로드\n",
        "model.config.pad_token_id = model.config.eos_token_id\n",
        "\n",
        "text_generator = pipeline('text-generation', model=model, tokenizer=tokenizer)\n",
        "\n",
        "def create_prompt(ingredients):\n",
        "    ingredients = ','.join([x.strip().lower() for x in ingredients.split(',')])  # 입력한 재료를 ,로 구분해 분할\n",
        "    ingredients = ingredients.strip().replace(',', '\\n')\n",
        "    s = f\"재료:\\n{ingredients}\\n\"\n",
        "    return s\n",
        "\n",
        "# 사용자에게 재료 입력받기\n",
        "ingredients = input(\"레시피에 사용할 재료를 입력해주세요. 각 재료는 쉼표(,)로 구분합니다: \")\n",
        "prompt = create_prompt(ingredients)  # 입력된 재료를 이용해 prompt 문자열 생성\n",
        "\n",
        "# 텍스트 생성 및 출력\n",
        "generated_text = text_generator(prompt, max_length=512, do_sample=True, temperature=0.6, top_k=50)\n",
        "print(generated_text[0]['generated_text'])\n"
      ],
      "metadata": {
        "colab": {
          "base_uri": "https://localhost:8080/"
        },
        "id": "gdRdV-qadKPm",
        "outputId": "2d1781e0-0cde-4a1b-fd19-758ff6e9388a"
      },
      "execution_count": null,
      "outputs": [
        {
          "output_type": "stream",
          "name": "stdout",
          "text": [
            "레시피에 사용할 재료를 입력해주세요. 각 재료는 쉼표(,)로 구분합니다: 마늘, 오이, 토마토, 된장, 치아바타\n",
            "재료:\n",
            "마늘\n",
            "오이\n",
            "토마토\n",
            "된장\n",
            "치아바타\n",
            "새우,파프리카,소금,후추,오이고추,식용유,설탕,깨\n",
            "\n",
            " 레시피:\n",
            "1. 오이 프라이팬에 소금과 후춧가루를 뿌려 숙성을 시킨다.2. 오이 프라이팬에 소금과 후춧가루를 뿌려 숙성시킨다.3. 냄비에 오이고추를 넣고 끓이다가 새우살을 섞어 된장 재료들을 만든다.4. 저염된장을 풀어 끓인 뒤 새우살과 후춧가루를 섞고 저염준다.5. 접시에 담고 소금과 후춧가루를 뿌리고 설탕, 깨를 뿌려 완성한다.\n",
            "\n",
            " \n"
          ]
        }
      ]
    },
    {
      "cell_type": "code",
      "source": [
        "\n",
        "from transformers import pipeline\n",
        "\n",
        "def create_prompt(ingredients_list):\n",
        "    ingredients = ', '.join(ingredients_list) #재료 리스트를 쉼표로 구분된 문자열로 변환\n",
        "    s = f\"재료:\\n{ingredients}\\n\"\n",
        "    return s\n",
        "\n",
        "# 여기서는 텍스트 생성 작업에 사용할 파이프라인을 설정하고, 사전 훈련된 GPT-2 모델을 로드합니다.\n",
        "pl = pipeline('text-generation', model='/content/drive/MyDrive/work/khaanaGPT')\n",
        "\n",
        "ingredients = ['김치','감자','고구마','토마토','당근','마늘','파프리카','연근','우엉']\n",
        "\n",
        "prompt = create_prompt(ingredients) #모든 재료를 이용해 prompt 문자열 생성\n",
        "output = pl(prompt, #텍스트 반환\n",
        "     max_new_tokens=512, #생성할 최대 토큰 개수\n",
        "     temperature=0.6,\n",
        "     top_k=4, #상위 4개 레시피 출력\n",
        "     pad_token_id=50259\n",
        "    )[0]['generated_text']\n",
        "print(output)\n",
        "\n"
      ],
      "metadata": {
        "id": "O9keDWqIo4_M"
      },
      "execution_count": null,
      "outputs": []
    }
  ]
}