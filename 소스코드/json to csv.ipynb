{
 "cells": [
  {
   "attachments": {},
   "cell_type": "markdown",
   "metadata": {},
   "source": [
    "import json, urllib.request\n",
    "import csv\n",
    "\n",
    "apikey='39cc1d91eafe4380a83b'\n",
    "\n",
    "startRow=1\n",
    "endRow=5\n",
    "\n",
    "url='https://openapi.foodsafetykorea.go.kr/api/'+ apikey+ '/C003/json/'+str(startRow)+'/'+str(endRow)\n",
    "\n",
    "data= urllib.request.urlopen(url).read()\n",
    "output= json.loads(data)\n",
    "output=output['C003']\n",
    "output=output['row']\n",
    "#print(output)\n",
    "\n",
    "#print(output[0].keys())\n",
    "output_file='api_output.csv'\n",
    "\n",
    "try:\n",
    "    with open(output_file, 'w', newline='', encoding='UTF-8') as csvfile:\n",
    "        writer=csv.DictWriter(csvfile, output[0].keys())\n",
    "        writer.writeheader()\n",
    "        for data in output:\n",
    "            writer.writerow(data)\n",
    "except:\n",
    "    print('Error')"
   ]
  },
  {
   "attachments": {},
   "cell_type": "markdown",
   "metadata": {},
   "source": [
    "import json, urllib.request\n",
    "import csv\n",
    "import pandas as pd\n",
    "\n",
    "apikey='39cc1d91eafe4380a83b'\n",
    "\n",
    "startRow=1\n",
    "endRow=5\n",
    "\n",
    "url='https://openapi.foodsafetykorea.go.kr/api/'+ apikey+ '/C003/json/'+str(startRow)+'/'+str(endRow)\n",
    "\n",
    "data= urllib.request.urlopen(url).read()\n",
    "output= json.loads(data)\n",
    "output=output['C003']\n",
    "output=output['row']\n",
    "#print(output)\n",
    "\n",
    "#print(output[0].keys())\n",
    "output_file='api_output.csv'\n",
    "\n",
    "try:\n",
    "    with open(output_file, 'w', newline='', encoding='UTF-8') as csvfile:\n",
    "        writer=csv.DictWriter(csvfile, output[0].keys())\n",
    "        writer.writeheader()\n",
    "        for data in output:\n",
    "            writer.writerow(data)\n",
    "except:\n",
    "    print('Error')"
   ]
  },
  {
   "cell_type": "code",
   "execution_count": 7,
   "metadata": {},
   "outputs": [],
   "source": [
    "import requests\n",
    "import json\n",
    "import csv\n",
    "import pandas as pd\n",
    "\n",
    "# 관측소번호, 시작날짜, 종료날짜 입력 필수\n",
    "apikey='39cc1d91eafe4380a83b'\n",
    "\n",
    "startRow=1\n",
    "endRow=5\n",
    "\n",
    "url=requests.get('https://openapi.foodsafetykorea.go.kr/api/'+ apikey+ '/C003/json/'+str(startRow)+'/'+str(endRow))\n",
    "text = url.text\n",
    "\n",
    "# JSON 데이터에 액세스\n",
    "data = json.loads(text)\n",
    "df = pd.json_normalize(data['C003']['row'])\n",
    "\n",
    "# csv 저장\n",
    "df.to_csv(\"sample.csv\")"
   ]
  },
  {
   "attachments": {},
   "cell_type": "markdown",
   "metadata": {},
   "source": [
    "https://mainia.tistory.com/6658"
   ]
  }
 ],
 "metadata": {
  "kernelspec": {
   "display_name": "Python 3",
   "language": "python",
   "name": "python3"
  },
  "language_info": {
   "codemirror_mode": {
    "name": "ipython",
    "version": 3
   },
   "file_extension": ".py",
   "mimetype": "text/x-python",
   "name": "python",
   "nbconvert_exporter": "python",
   "pygments_lexer": "ipython3",
   "version": "3.11.2"
  },
  "orig_nbformat": 4
 },
 "nbformat": 4,
 "nbformat_minor": 2
}
